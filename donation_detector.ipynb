{
 "cells": [
  {
   "cell_type": "code",
   "execution_count": 1,
   "metadata": {},
   "outputs": [
    {
     "name": "stderr",
     "output_type": "stream",
     "text": [
      "/var/folders/8v/r0lk2mbn2k5dgm_pdmv4_8hr0000gn/T/ipykernel_28957/3110861098.py:1: DeprecationWarning: \n",
      "Pyarrow will become a required dependency of pandas in the next major release of pandas (pandas 3.0),\n",
      "(to allow more performant data types, such as the Arrow string type, and better interoperability with other libraries)\n",
      "but was not found to be installed on your system.\n",
      "If this would cause problems for you,\n",
      "please provide us feedback at https://github.com/pandas-dev/pandas/issues/54466\n",
      "        \n",
      "  import pandas as pd\n"
     ]
    }
   ],
   "source": [
    "import pandas as pd\n",
    "df_domain = pd.read_csv('ideo_domain_mbfc081123_with_weights.tsv', sep='\\t')"
   ]
  },
  {
   "cell_type": "code",
   "execution_count": 2,
   "metadata": {},
   "outputs": [],
   "source": [
    "from selenium import webdriver \n",
    "from selenium.webdriver.common.by import By\n",
    "\n",
    "# Create Chromeoptions instance \n",
    "options = webdriver.ChromeOptions() \n",
    "\n",
    "# set header and headless mode\n",
    "options.add_argument('user-agent=Mozilla/5.0 (Macintosh; Intel Mac OS X 10_15_7) AppleWebKit/537.36 (KHTML, like Gecko) Chrome/121.0.0.0 Safari/537.36')\n",
    "options.add_argument('--headless')  \n",
    "\n",
    "# Adding argument to disable the AutomationControlled flag \n",
    "options.add_argument(\"--disable-blink-features=AutomationControlled\") \n",
    " \n",
    "# Exclude the collection of enable-automation switches \n",
    "options.add_experimental_option(\"excludeSwitches\", [\"enable-automation\"]) \n",
    " \n",
    "# Turn-off userAutomationExtension \n",
    "options.add_experimental_option(\"useAutomationExtension\", False) \n",
    " \n"
   ]
  },
  {
   "cell_type": "code",
   "execution_count": 3,
   "metadata": {},
   "outputs": [],
   "source": [
    "from selenium import webdriver\n",
    "from selenium.webdriver.common.by import By\n",
    "from selenium.common.exceptions import StaleElementReferenceException, TimeoutException\n",
    "import re\n",
    "\n",
    "donation_keywords = [\n",
    "    \"donate\", \"donation\"\n",
    "]\n",
    "\n",
    "def check_elements(elements):\n",
    "    for element in elements:\n",
    "        # Check if the element is visible and clickable\n",
    "        if element.is_displayed() and element.is_enabled():\n",
    "            # Check the element's text and attributes for donation-related keywords\n",
    "            text = element.text.lower()\n",
    "            href = element.get_attribute(\"href\") or \"\"\n",
    "            for keyword in donation_keywords:\n",
    "                if keyword in text or keyword in href:\n",
    "                    print(f\"Donation option found: {text}; {href}\")\n",
    "                    return True\n",
    "    return False\n",
    "\n",
    "def find_donation_option(url):\n",
    "    print(url)\n",
    "    driver = webdriver.Chrome(options=options) \n",
    "    driver.execute_script(\"Object.defineProperty(navigator, 'webdriver', {get: () => undefined})\") \n",
    "    \n",
    "    try:\n",
    "        driver.get('https://' + url)\n",
    "        for keyword in donation_keywords:\n",
    "            links = driver.find_elements(By.PARTIAL_LINK_TEXT, keyword)\n",
    "            buttons = driver.find_elements(By.XPATH, f\"//button[contains(translate(., 'ABCDEFGHIJKLMNOPQRSTUVWXYZ', 'abcdefghijklmnopqrstuvwxyz'), '{keyword}')]\")\n",
    "            if check_elements(links + buttons):\n",
    "                return 1\n",
    "\n",
    "            iframes = driver.find_elements(By.TAG_NAME, \"iframe\")\n",
    "            for i in range(len(iframes)):\n",
    "                iframes = driver.find_elements(By.TAG_NAME, \"iframe\")\n",
    "                if i >= len(iframes):\n",
    "                    break\n",
    "\n",
    "                iframe = iframes[i]\n",
    "                title = iframe.get_attribute(\"title\") or \"\"\n",
    "                if keyword in title.lower():\n",
    "                    print(f\"Donation option found in iframe title: {title}\")\n",
    "                    return 1\n",
    "\n",
    "                driver.switch_to.frame(iframe)\n",
    "                clickable_elements = driver.find_elements(By.XPATH, f\"//*[contains(@href, '{keyword}') or contains(text(), '{keyword.capitalize()}')]\")\n",
    "                if check_elements(clickable_elements):\n",
    "                    return 1\n",
    "                driver.switch_to.default_content()\n",
    "\n",
    "        print(\"Donation option not found\")\n",
    "        return 0\n",
    "\n",
    "    except TimeoutException as e:\n",
    "        print(f\"TimeoutException encountered while processing {url}, skipping...\")\n",
    "        return 'failed'\n",
    "    \n",
    "    except Exception as e:\n",
    "        print(f\"Encountered an error of type {type(e).__name__} while processing {url}, skipping...\")\n",
    "        return 'failed'\n",
    "    \n",
    "    finally:\n",
    "        driver.quit()"
   ]
  },
  {
   "cell_type": "code",
   "execution_count": 59,
   "metadata": {},
   "outputs": [
    {
     "name": "stdout",
     "output_type": "stream",
     "text": [
      "castanet.net\n",
      "Donation option not found\n"
     ]
    },
    {
     "data": {
      "text/plain": [
       "0"
      ]
     },
     "execution_count": 59,
     "metadata": {},
     "output_type": "execute_result"
    }
   ],
   "source": [
    "find_donation_option('castanet.net')"
   ]
  },
  {
   "cell_type": "code",
   "execution_count": null,
   "metadata": {},
   "outputs": [],
   "source": [
    "start = 0\n",
    "end = 100\n",
    "df_domain_partition = df_domain[start:end]\n",
    "df_domain_partition['donation'] = df_domain_partition['domain'].apply(find_donation_option)\n",
    "df_domain_partition.to_csv(f'donation_df/{start}_{end}.csv')\n"
   ]
  },
  {
   "cell_type": "code",
   "execution_count": null,
   "metadata": {},
   "outputs": [],
   "source": []
  }
 ],
 "metadata": {
  "kernelspec": {
   "display_name": "Python 3",
   "language": "python",
   "name": "python3"
  },
  "language_info": {
   "codemirror_mode": {
    "name": "ipython",
    "version": 3
   },
   "file_extension": ".py",
   "mimetype": "text/x-python",
   "name": "python",
   "nbconvert_exporter": "python",
   "pygments_lexer": "ipython3",
   "version": "3.9.18"
  }
 },
 "nbformat": 4,
 "nbformat_minor": 2
}
