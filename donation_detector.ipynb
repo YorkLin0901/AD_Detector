{
 "cells": [
  {
   "cell_type": "code",
   "execution_count": 1,
   "metadata": {},
   "outputs": [],
   "source": [
    "from donation_detector_parallel import * "
   ]
  },
  {
   "cell_type": "code",
   "execution_count": 3,
   "metadata": {},
   "outputs": [
    {
     "name": "stdout",
     "output_type": "stream",
     "text": [
      "childrenshealthdefense.org\n",
      "Donation option found: donate; https://childrenshealthdefense.org/about-us/donate/\n"
     ]
    },
    {
     "data": {
      "text/plain": [
       "(1, 'donate', 'https://childrenshealthdefense.org/about-us/donate/')"
      ]
     },
     "execution_count": 3,
     "metadata": {},
     "output_type": "execute_result"
    }
   ],
   "source": [
    "find_donation_option('childrenshealthdefense.org')"
   ]
  },
  {
   "cell_type": "code",
   "execution_count": null,
   "metadata": {},
   "outputs": [],
   "source": [
    "start = 0\n",
    "end = 100\n",
    "df_domain_partition = df_domain[start:end]\n",
    "df_domain_partition['donation'] = df_domain_partition['domain'].apply(find_donation_option)\n",
    "df_domain_partition.to_csv(f'donation_df/{start}_{end}.csv')\n"
   ]
  },
  {
   "cell_type": "code",
   "execution_count": 5,
   "metadata": {},
   "outputs": [],
   "source": [
    "from bs4 import BeautifulSoup\n",
    "import requests"
   ]
  },
  {
   "cell_type": "code",
   "execution_count": 29,
   "metadata": {},
   "outputs": [],
   "source": [
    "keywords = [\"donation\", \"donate\", 'support us', 'support','buy me a coffee', 'tip']\n",
    "\n",
    "def detect_keywords(soup):\n",
    "    elements_with_keywords = []\n",
    "    for keyword in keywords:\n",
    "        elements_with_keywords.extend(soup.find_all(text=lambda text: text and keyword in text.lower()))\n",
    "        elements_with_keywords.extend(soup.find_all(\"a\", href=lambda href: href and any(keyword in href.lower() for keyword in keywords)))\n",
    "        elements_with_keywords.extend(soup.find_all(\"button\", text=lambda text: text and any(keyword in text.lower() for keyword in keywords)))\n",
    "    for element in elements_with_keywords:\n",
    "        if clean_string(element.text) == '' or len(clean_string(element.text).split(' ')) > 7:\n",
    "            elements_with_keywords.remove(element)\n",
    "    return elements_with_keywords\n",
    "\n",
    "def find_donation_bs(url):\n",
    "    if not url.startswith('https://'):\n",
    "        url = 'https://' + url\n",
    "\n",
    "    response = requests.get(url)\n",
    "    html_content = response.text\n",
    "    soup = BeautifulSoup(html_content, \"html.parser\")\n",
    "    \n",
    "    elements_with_keywords = detect_keywords(soup)\n",
    "\n",
    "    iframes = soup.find_all(\"iframe\")\n",
    "\n",
    "    for iframe in iframes:\n",
    "        iframe_src = iframe.get(\"src\")\n",
    "        if iframe_src:\n",
    "            # Make a separate HTTP request to the URL specified in the src attribute\n",
    "            iframe_response = requests.get(iframe_src)\n",
    "            iframe_content = iframe_response.text\n",
    "\n",
    "            # Parse the content of the iframe using Beautiful Soup\n",
    "            iframe_soup = BeautifulSoup(iframe_content, \"html.parser\")\n",
    "\n",
    "            # Perform your detection logic here (e.g., find elements with keywords)\n",
    "            elements_with_keywords_iframe = detect_keywords(iframe_soup)\n",
    "            elements_with_keywords.extend(elements_with_keywords_iframe)\n",
    "        else:\n",
    "            print(\"No src attribute found for iframe\")\n",
    "    return elements_with_keywords\n",
    "\n",
    "\n"
   ]
  },
  {
   "cell_type": "code",
   "execution_count": 36,
   "metadata": {},
   "outputs": [],
   "source": [
    "start = 0\n",
    "end = 10\n",
    "df_domain = pd.read_csv('ideo_domain_mbfc081123_with_weights.tsv', sep='\\t')\n",
    "df_domain = df_domain[start: end]"
   ]
  },
  {
   "cell_type": "code",
   "execution_count": null,
   "metadata": {},
   "outputs": [],
   "source": []
  }
 ],
 "metadata": {
  "kernelspec": {
   "display_name": "Python 3",
   "language": "python",
   "name": "python3"
  },
  "language_info": {
   "codemirror_mode": {
    "name": "ipython",
    "version": 3
   },
   "file_extension": ".py",
   "mimetype": "text/x-python",
   "name": "python",
   "nbconvert_exporter": "python",
   "pygments_lexer": "ipython3",
   "version": "3.9.18"
  }
 },
 "nbformat": 4,
 "nbformat_minor": 2
}
